{
 "cells": [
  {
   "cell_type": "markdown",
   "id": "502c86b5-a925-4dc2-ba6a-1e7324edc087",
   "metadata": {},
   "source": [
    "# YOLO v7 Training from Roboflow"
   ]
  },
  {
   "cell_type": "markdown",
   "id": "7a76504d-f3ce-418b-964b-156e632784b8",
   "metadata": {},
   "source": [
    "Install YOLO Impl"
   ]
  },
  {
   "cell_type": "code",
   "execution_count": null,
   "id": "d6d84c6f-3636-47a4-b931-a50ff9755671",
   "metadata": {},
   "outputs": [],
   "source": [
    "!git clone git@github.com:WongKinYiu/yolov7\n",
    "%cd yolov7\n",
    "!pip install -r requirements.txt\n",
    "!pip install roboflow"
   ]
  },
  {
   "cell_type": "markdown",
   "id": "081ac52f-99a5-4f7a-8f52-16fed7e3920f",
   "metadata": {},
   "source": [
    "Download Dataset from Roboflow"
   ]
  },
  {
   "cell_type": "code",
   "execution_count": null,
   "id": "567eab9e-85fc-4e06-90c6-5a01a5d2ba08",
   "metadata": {},
   "outputs": [],
   "source": [
    "from roboflow import Roboflow\n",
    "# rf = Roboflow(api_key=\"YOUR API KEY\")\n",
    "# project = rf.workspace(\"YOUR-WORKSPACE\").project(\"YOUR-PROJECT\")\n",
    "rf = Roboflow(api_key=\"IH04p3HK42pvJSvVKkKJ\")\n",
    "project = rf.workspace(\"mracing-indmi\").project(\"cone-detect\")\n",
    "dataset = project.version(1).download(\"yolov7\")"
   ]
  },
  {
   "cell_type": "markdown",
   "id": "ce7fe5bc-c03e-4e5d-9346-489324faf5f0",
   "metadata": {},
   "source": [
    "Download Initial Checkpoint"
   ]
  },
  {
   "cell_type": "code",
   "execution_count": null,
   "id": "c16724e8-9807-4dd2-940d-e09d5d5e2219",
   "metadata": {},
   "outputs": [],
   "source": [
    "%cd /home/edurso/dev/mracing-cone/yolov7\n",
    "!wget https://github.com/WongKinYiu/yolov7/releases/download/v0.1/yolov7_training.pt"
   ]
  },
  {
   "cell_type": "markdown",
   "id": "31be6a37-a465-4fab-aa4b-0fd979070292",
   "metadata": {},
   "source": [
    "Train"
   ]
  },
  {
   "cell_type": "code",
   "execution_count": null,
   "id": "fe63fefc-3471-4cbb-bbab-99b35f125932",
   "metadata": {},
   "outputs": [],
   "source": [
    "%cd /home/edurso/dev/mracing-cone/yolov7\n",
    "!python train.py --batch 4 --epochs 5 --data {dataset.location}/data.yaml --weights 'yolov7_training.pt' --device 0"
   ]
  },
  {
   "cell_type": "markdown",
   "id": "c1e3fbb0-b775-43b7-b2d4-5d774149003f",
   "metadata": {},
   "source": [
    "Evaluate on Images"
   ]
  },
  {
   "cell_type": "code",
   "execution_count": null,
   "id": "25126c75-9991-4b24-bf12-517fb1100e6f",
   "metadata": {},
   "outputs": [],
   "source": [
    "%cd /home/edurso/dev/mracing-cone/yolov7\n",
    "!python detect.py --weights runs/train/exp2/weights/best.pt --conf 0.1 --source {dataset.location}/test/images"
   ]
  },
  {
   "cell_type": "markdown",
   "id": "0a5ae062-8aba-4d7c-bf08-da15becbcfba",
   "metadata": {},
   "source": [
    "Test on Video"
   ]
  },
  {
   "cell_type": "code",
   "execution_count": null,
   "id": "78b082a4-7e25-4e98-b793-3995e9827de3",
   "metadata": {},
   "outputs": [],
   "source": [
    "%cd /home/edurso/dev/mracing-cone/\n",
    "!python yolov7/detect.py --weights yolov7/runs/train/exp2/weights/best.pt --conf 0.1 --source test.mp4"
   ]
  }
 ],
 "metadata": {
  "kernelspec": {
   "display_name": "Python 3 (ipykernel)",
   "language": "python",
   "name": "python3"
  },
  "language_info": {
   "codemirror_mode": {
    "name": "ipython",
    "version": 3
   },
   "file_extension": ".py",
   "mimetype": "text/x-python",
   "name": "python",
   "nbconvert_exporter": "python",
   "pygments_lexer": "ipython3",
   "version": "3.9.13"
  }
 },
 "nbformat": 4,
 "nbformat_minor": 5
}
